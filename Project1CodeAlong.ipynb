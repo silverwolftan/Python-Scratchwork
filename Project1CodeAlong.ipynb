{
 "cells": [
  {
   "cell_type": "markdown",
   "metadata": {},
   "source": [
    "Tic Tac Toe\n",
    "\n",
    "This is my codealong for the solution to Project 1. "
   ]
  },
  {
   "cell_type": "code",
   "execution_count": 2,
   "metadata": {},
   "outputs": [],
   "source": [
    "# Specifically for the iPython Notebook environment for clearing output\n",
    "\n",
    "from IPython.display import clear_output\n",
    "\n",
    "# Global variables\n",
    "board = [' '] * 10\n",
    "game_state = True\n",
    "announce = ''"
   ]
  },
  {
   "cell_type": "code",
   "execution_count": 3,
   "metadata": {},
   "outputs": [],
   "source": [
    "# Note: Game will ignore the 0 index\n",
    "def reset_board():\n",
    "    global board,game_state\n",
    "    board = [' '] * 10\n",
    "    game_state = True"
   ]
  },
  {
   "cell_type": "code",
   "execution_count": 4,
   "metadata": {},
   "outputs": [
    {
     "ename": "SyntaxError",
     "evalue": "Missing parentheses in call to 'print'. Did you mean print(\"  \"+board[7]+\"  |\"+board[8]+\"  | \"+board[9]+\" \")? (<ipython-input-4-b243b7a4974a>, line 6)",
     "output_type": "error",
     "traceback": [
      "\u001b[1;36m  File \u001b[1;32m\"<ipython-input-4-b243b7a4974a>\"\u001b[1;36m, line \u001b[1;32m6\u001b[0m\n\u001b[1;33m    print \"  \"+board[7]+\"  |\"+board[8]+\"  | \"+board[9]+\" \"\u001b[0m\n\u001b[1;37m             ^\u001b[0m\n\u001b[1;31mSyntaxError\u001b[0m\u001b[1;31m:\u001b[0m Missing parentheses in call to 'print'. Did you mean print(\"  \"+board[7]+\"  |\"+board[8]+\"  | \"+board[9]+\" \")?\n"
     ]
    }
   ],
   "source": [
    "def display_board():\n",
    "    ''' This function prints out the board so the numpad can be used as a reference '''\n",
    "    # Clear current cell output\n",
    "    clear_output()\n",
    "    # Print board\n",
    "    print \"  \"+board[7]+\"  |\"+board[8]+\"  | \"+board[9]+\" \"\n",
    "    \"------------\"\n",
    "    print \"  \"+board[4]+\"  |\"+board[5]+\"  | \"+board[6]+\" \"\n",
    "    \"------------\"\n",
    "    print \"  \"+board[1]+\"  |\"+board[2]+\"  | \"+board[3]+\" \""
   ]
  },
  {
   "cell_type": "code",
   "execution_count": 5,
   "metadata": {},
   "outputs": [],
   "source": [
    "def win_check(board, player):\n",
    "    ''' Check Horizontals, Verticals, and diagonals for a win '''\n",
    "    if(board[7] == board[8] == board[9] == player) or \\\n",
    "        (board[4] == board[5] == board[6] == player) or \\\n",
    "        (board[1] == board[2] == board[3] == player) or \\\n",
    "        (board[7] == board[4] == board[1] == player) or \\\n",
    "        (board[8] == board[5] == board[2] == player) or \\\n",
    "        (board[9] == board[6] == board[3] == player) or \\\n",
    "        (board[1] == board[5] == board[9] == player) or \\\n",
    "        (board[3] == board[5] == board[7] == player):\n",
    "        return True\n",
    "    else: \n",
    "        return False"
   ]
  },
  {
   "cell_type": "code",
   "execution_count": 6,
   "metadata": {},
   "outputs": [],
   "source": [
    "def full_board_check(board):\n",
    "    ''' Function to check if any remaining blanks are in the board '''\n",
    "    if \" \" in board[1:]:\n",
    "        return False\n",
    "    else:\n",
    "        return True "
   ]
  },
  {
   "cell_type": "code",
   "execution_count": 7,
   "metadata": {},
   "outputs": [],
   "source": [
    "def ask_player(mark):\n",
    "    '''Asks player where to place X or O mark, checks validity'''\n",
    "    global board\n",
    "    req = 'Choose where to place your: ' + mark\n",
    "    while True:\n",
    "        try:\n",
    "            choice = int(raw_input(req))\n",
    "        except ValueError:\n",
    "            print(\"Sorry, please input a number between 1-9.\")\n",
    "            continue\n",
    "            \n",
    "        if board[choice] == \" \":\n",
    "            board[choice] == mark\n",
    "            break\n",
    "        else:\n",
    "            print(\"That space isn't empty!\")\n",
    "        continue "
   ]
  },
  {
   "cell_type": "code",
   "execution_count": 8,
   "metadata": {},
   "outputs": [],
   "source": [
    "def player_choice(mark):\n",
    "    global board,game_state,announce\n",
    "    #Set game blank game announcement\n",
    "    announce = ''\n",
    "    #Get Player Input\n",
    "    mark = str(mark)\n",
    "    # Validate input\n",
    "    ask_player(mark)\n",
    "    \n",
    "    #Check for player win\n",
    "    if win_check(board,mark):\n",
    "        clear_output()\n",
    "        display_board()\n",
    "        announce = mark +\" wins! Congratulations\"\n",
    "        game_state = False\n",
    "        \n",
    "    #Show board \n",
    "    clear_output()\n",
    "    display_board()\n",
    "    \n",
    "    #Check for a tie\n",
    "    if full_board_check(board):\n",
    "        announce = \"Tie!\"\n",
    "        game_state = False\n",
    "    \n",
    "    return game_state,announce "
   ]
  },
  {
   "cell_type": "code",
   "execution_count": 9,
   "metadata": {},
   "outputs": [
    {
     "ename": "SyntaxError",
     "evalue": "Missing parentheses in call to 'print'. Did you mean print(announce)? (<ipython-input-9-189e80bfd2f9>, line 15)",
     "output_type": "error",
     "traceback": [
      "\u001b[1;36m  File \u001b[1;32m\"<ipython-input-9-189e80bfd2f9>\"\u001b[1;36m, line \u001b[1;32m15\u001b[0m\n\u001b[1;33m    print announce\u001b[0m\n\u001b[1;37m                 ^\u001b[0m\n\u001b[1;31mSyntaxError\u001b[0m\u001b[1;31m:\u001b[0m Missing parentheses in call to 'print'. Did you mean print(announce)?\n"
     ]
    }
   ],
   "source": [
    "def play_game():\n",
    "    reset_board()\n",
    "    global announce \n",
    "    \n",
    "    # Set marks\n",
    "    X='X'\n",
    "    O='O'\n",
    "    while True:\n",
    "        # Show board\n",
    "        clear_output()\n",
    "        display_board()\n",
    "        \n",
    "        # Player X turn\n",
    "        game_state,announce = player_choice(X)\n",
    "        print announce\n",
    "        if game_state == False:\n",
    "            break\n",
    "            \n",
    "        # Player O turn\n",
    "        game_state,announce = player_choice(0)\n",
    "        print(announce) \n",
    "        if game_state == False:\n",
    "            break\n",
    "        # Ask player for a rematch\n",
    "        rematch = raw_nput('Would you like to play again? y/n')\n",
    "        if rematch == 'y':\n",
    "            play_game()\n",
    "        else:\n",
    "            print \"Thanks for playing!\""
   ]
  },
  {
   "cell_type": "code",
   "execution_count": 10,
   "metadata": {},
   "outputs": [
    {
     "ename": "NameError",
     "evalue": "name 'play_game' is not defined",
     "output_type": "error",
     "traceback": [
      "\u001b[1;31m---------------------------------------------------------------------------\u001b[0m",
      "\u001b[1;31mNameError\u001b[0m                                 Traceback (most recent call last)",
      "\u001b[1;32m<ipython-input-10-51076e9b4cab>\u001b[0m in \u001b[0;36m<module>\u001b[1;34m\u001b[0m\n\u001b[1;32m----> 1\u001b[1;33m \u001b[0mplay_game\u001b[0m\u001b[1;33m(\u001b[0m\u001b[1;33m)\u001b[0m\u001b[1;33m\u001b[0m\u001b[1;33m\u001b[0m\u001b[0m\n\u001b[0m",
      "\u001b[1;31mNameError\u001b[0m: name 'play_game' is not defined"
     ]
    }
   ],
   "source": [
    "play_game()"
   ]
  },
  {
   "cell_type": "code",
   "execution_count": null,
   "metadata": {},
   "outputs": [],
   "source": []
  }
 ],
 "metadata": {
  "kernelspec": {
   "display_name": "Python 3",
   "language": "python",
   "name": "python3"
  },
  "language_info": {
   "codemirror_mode": {
    "name": "ipython",
    "version": 3
   },
   "file_extension": ".py",
   "mimetype": "text/x-python",
   "name": "python",
   "nbconvert_exporter": "python",
   "pygments_lexer": "ipython3",
   "version": "3.7.3"
  }
 },
 "nbformat": 4,
 "nbformat_minor": 2
}
